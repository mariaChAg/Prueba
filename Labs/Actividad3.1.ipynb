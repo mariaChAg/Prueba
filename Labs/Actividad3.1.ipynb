 from tda import auth, client
 import json
 import pandas as pd
 from datetime import datetime, date
 import TDAsecrets
 